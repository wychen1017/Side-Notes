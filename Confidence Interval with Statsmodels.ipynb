{
 "cells": [
  {
   "cell_type": "code",
   "execution_count": 1,
   "metadata": {},
   "outputs": [],
   "source": [
    "import numpy as np\n",
    "from statsmodels.regression.linear_model import OLS\n",
    "import statsmodels.api as sm\n",
    "\n",
    "import matplotlib.pyplot as plt\n",
    "import seaborn as sns;\n",
    "sns.set()"
   ]
  },
  {
   "cell_type": "markdown",
   "metadata": {},
   "source": [
    "There are 2 kinds of Confidence Intervals ( and we use 2 different standard error to measure them )\n",
    "\n",
    "1. CI for Predicted Mean (the mean of predicted values) :\n",
    "\n",
    "This is usually known as Confidence Interval, and this measures tge Variance (Std Error ^ 2) of the expected value of the prediction\n",
    "\n",
    "   =>  Var(Y_hat|X=Xh) = Var(Beta0_hat + Beta1_hat * Xh) = Var(Prediction Mean)\n",
    "\n",
    "2. CI for Predicted Observations (or Predicted Value)   :\n",
    "\n",
    "This is also called Prediction/Forecast Interval, and this directly measures the Variance (Std Error ^ 2) of thhe prediction for NEW OBSERVATION (Y_hat, X_hat).\n",
    "\n",
    "   =>  Var(Pred|X_Xh) = Var(ei|X=Xh) = Var{ (Y_hat|X=Xh) - (Y|X=Xh) } \n",
    "   \n",
    "   = Var(Y_hat|X=Xh)                 + Var(Y|X=Xh)                  - 2Cov(Y_hat|X=Xh, Y|X=Xh)\n",
    "   \n",
    "   = Var(Beta0_hat + Beta1_hat * Xh) + Var(Beta0 + Beta1 * Xh + εh) - 0  \n",
    "   \n",
    "   <- 0 because the True value of Y for the new observation is completely NEW to the training set, so they do not have any correlation\n",
    "   \n",
    "   = Var(Prediction Mean) + Var(   εh   ) \n",
    "   \n",
    "   = Var(Prediction Mean) + Var(Residual)\n",
    "\n"
   ]
  },
  {
   "cell_type": "markdown",
   "metadata": {},
   "source": [
    "## Generate a Tool Data "
   ]
  },
  {
   "cell_type": "code",
   "execution_count": 6,
   "metadata": {},
   "outputs": [],
   "source": [
    "A  = np.linspace(0, 100, 1000)\n",
    "\n",
    "WN = np.random.normal(loc=0, scale=5, size=1000) # White Noise\n",
    "\n",
    "B = 50 + 0.1 * A + WN # True Model"
   ]
  },
  {
   "cell_type": "markdown",
   "metadata": {},
   "source": [
    "## The simplest way to get CI for Mean/Obs, use \"summary_frame()\" "
   ]
  },
  {
   "cell_type": "code",
   "execution_count": 11,
   "metadata": {},
   "outputs": [
    {
     "data": {
      "text/html": [
       "<div>\n",
       "<style scoped>\n",
       "    .dataframe tbody tr th:only-of-type {\n",
       "        vertical-align: middle;\n",
       "    }\n",
       "\n",
       "    .dataframe tbody tr th {\n",
       "        vertical-align: top;\n",
       "    }\n",
       "\n",
       "    .dataframe thead th {\n",
       "        text-align: right;\n",
       "    }\n",
       "</style>\n",
       "<table border=\"1\" class=\"dataframe\">\n",
       "  <thead>\n",
       "    <tr style=\"text-align: right;\">\n",
       "      <th></th>\n",
       "      <th>mean</th>\n",
       "      <th>mean_se</th>\n",
       "      <th>mean_ci_lower</th>\n",
       "      <th>mean_ci_upper</th>\n",
       "      <th>obs_ci_lower</th>\n",
       "      <th>obs_ci_upper</th>\n",
       "    </tr>\n",
       "  </thead>\n",
       "  <tbody>\n",
       "    <tr>\n",
       "      <th>995</th>\n",
       "      <td>59.886954</td>\n",
       "      <td>0.310550</td>\n",
       "      <td>59.277547</td>\n",
       "      <td>60.496360</td>\n",
       "      <td>50.166863</td>\n",
       "      <td>69.607045</td>\n",
       "    </tr>\n",
       "    <tr>\n",
       "      <th>996</th>\n",
       "      <td>59.897028</td>\n",
       "      <td>0.311018</td>\n",
       "      <td>59.286703</td>\n",
       "      <td>60.507353</td>\n",
       "      <td>50.176880</td>\n",
       "      <td>69.617177</td>\n",
       "    </tr>\n",
       "    <tr>\n",
       "      <th>997</th>\n",
       "      <td>59.907103</td>\n",
       "      <td>0.311487</td>\n",
       "      <td>59.295859</td>\n",
       "      <td>60.518347</td>\n",
       "      <td>50.186896</td>\n",
       "      <td>69.627309</td>\n",
       "    </tr>\n",
       "    <tr>\n",
       "      <th>998</th>\n",
       "      <td>59.917177</td>\n",
       "      <td>0.311955</td>\n",
       "      <td>59.305014</td>\n",
       "      <td>60.529340</td>\n",
       "      <td>50.196913</td>\n",
       "      <td>69.637441</td>\n",
       "    </tr>\n",
       "    <tr>\n",
       "      <th>999</th>\n",
       "      <td>59.927251</td>\n",
       "      <td>0.312424</td>\n",
       "      <td>59.314168</td>\n",
       "      <td>60.540335</td>\n",
       "      <td>50.206929</td>\n",
       "      <td>69.647574</td>\n",
       "    </tr>\n",
       "  </tbody>\n",
       "</table>\n",
       "</div>"
      ],
      "text/plain": [
       "          mean   mean_se  ...  obs_ci_lower  obs_ci_upper\n",
       "995  59.886954  0.310550  ...     50.166863     69.607045\n",
       "996  59.897028  0.311018  ...     50.176880     69.617177\n",
       "997  59.907103  0.311487  ...     50.186896     69.627309\n",
       "998  59.917177  0.311955  ...     50.196913     69.637441\n",
       "999  59.927251  0.312424  ...     50.206929     69.647574\n",
       "\n",
       "[5 rows x 6 columns]"
      ]
     },
     "execution_count": 11,
     "metadata": {},
     "output_type": "execute_result"
    }
   ],
   "source": [
    "X_train = sm.add_constant(A)\n",
    "Y_train = B\n",
    "\n",
    "model = OLS(endog=Y_train, exog=X_train, missing='None', hasconst=True) # define the OLS object\n",
    "result = model.fit()                                                    # fit the model\n",
    "\n",
    "preds_ = result.get_prediction(X_train)                                 # then we get a linear_model.PredictionResult object\n",
    "\n",
    "preds_.summary_frame(alpha=0.05).tail()                                 # Now we can see the CI for Mean & CI for Obs"
   ]
  },
  {
   "cell_type": "markdown",
   "metadata": {},
   "source": [
    "## Alternative Method I"
   ]
  },
  {
   "cell_type": "code",
   "execution_count": 12,
   "metadata": {},
   "outputs": [],
   "source": [
    "# 95% Confidence Intervals for Predicted Mean\n",
    "mean_ci_upper_1 = preds_.predicted_mean + 1.96 * preds_.se_mean\n",
    "mean_ci_lower_1 = preds_.predicted_mean - 1.96 * preds_.se_mean\n",
    "\n",
    "# 95% Confidence Intervals for Prediction Obs\n",
    "obs_ci_upper_1  = preds_.predicted_mean + 1.96 * preds_.se_obs\n",
    "obs_ci_lower_1  = preds_.predicted_mean - 1.96 * preds_.se_obs"
   ]
  },
  {
   "cell_type": "markdown",
   "metadata": {},
   "source": [
    "## Alternative Method II "
   ]
  },
  {
   "cell_type": "code",
   "execution_count": 13,
   "metadata": {},
   "outputs": [],
   "source": [
    "# 95% Confidence Intervals for Predicted Mean\n",
    "mean_ci_upper_2 = preds_.predicted_mean + 1.96 * preds_.var_pred_mean\n",
    "mean_ci_lower_2 = preds_.predicted_mean - 1.96 * preds_.var_pred_mean\n",
    "\n",
    "# 95% Confidence Intervals for Prediction Obs\n",
    "obs_ci_upper_2  = preds_.predicted_mean + 1.96 * np.sqrt(preds_.var_pred_mean + preds_.var_resid - 2*0 )\n",
    "obs_ci_lower_2  = preds_.predicted_mean - 1.96 * np.sqrt(preds_.var_pred_mean + preds_.var_resid - 2*0 )"
   ]
  },
  {
   "cell_type": "markdown",
   "metadata": {},
   "source": [
    "## Alternative Method III "
   ]
  },
  {
   "cell_type": "code",
   "execution_count": 14,
   "metadata": {},
   "outputs": [],
   "source": [
    "# 95% Confidence Intervals for Predicted Mean\n",
    "mean_ci_3 = preds_.conf_int(obs=False, alpha=0.05)\n",
    "\n",
    "# 95% Confidence Intervals for Prediction Obs\n",
    "obs_ci_3  = preds_.conf_int(obs=True , alpha=0.05)\n"
   ]
  },
  {
   "cell_type": "code",
   "execution_count": null,
   "metadata": {},
   "outputs": [],
   "source": []
  }
 ],
 "metadata": {
  "kernelspec": {
   "display_name": "Python 3",
   "language": "python",
   "name": "python3"
  },
  "language_info": {
   "codemirror_mode": {
    "name": "ipython",
    "version": 3
   },
   "file_extension": ".py",
   "mimetype": "text/x-python",
   "name": "python",
   "nbconvert_exporter": "python",
   "pygments_lexer": "ipython3",
   "version": "3.8.5"
  }
 },
 "nbformat": 4,
 "nbformat_minor": 4
}
